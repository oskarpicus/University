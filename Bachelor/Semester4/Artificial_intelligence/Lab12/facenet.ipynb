{
  "nbformat": 4,
  "nbformat_minor": 0,
  "metadata": {
    "colab": {
      "name": "Lab12AI_FaceNet.ipynb",
      "provenance": [],
      "collapsed_sections": []
    },
    "kernelspec": {
      "name": "python3",
      "display_name": "Python 3"
    },
    "language_info": {
      "name": "python"
    }
  },
  "cells": [
    {
      "cell_type": "markdown",
      "metadata": {
        "id": "gzzWXGd9Q8yT"
      },
      "source": [
        "<h1>Loading the pictures</h1>\n",
        "  We are considering the following:\n",
        "  <table>\n",
        "    <thead>\n",
        "      <tr>\n",
        "        <th>Category</th>\n",
        "        <th>Types</th>\n",
        "      </tr>\n",
        "    </thead>\n",
        "    <tbody>\n",
        "      <tr>\n",
        "        <td rowspan=\"3\">Happy</td>\n",
        "        <td>happy</td>\n",
        "      </tr>\n",
        "      <tr><td>wink</td></tr>\n",
        "      <tr><td>normal</td></tr>\n",
        "      <tr>\n",
        "        <td rowspan=\"4\">Sad</td>\n",
        "        <td>sad</td>\n",
        "      </tr>\n",
        "      <tr><td>sleepy</td></tr>\n",
        "      <tr><td>glasses</td></tr>\n",
        "    </tbody>\n",
        "  </table>\n"
      ]
    },
    {
      "cell_type": "code",
      "metadata": {
        "id": "l1lvvQUdQlUf"
      },
      "source": [
        "from skimage.io import imread\n",
        "from os import listdir\n",
        "import cv2\n",
        "from keras_facenet import FaceNet\n",
        "\n",
        "\n",
        "def loadImages(happy: list, sad: list) -> tuple:\n",
        "  directory = \"drive/MyDrive/AI/yalefaces\"\n",
        "  files = listdir(directory)\n",
        "  inputs, outputs = [], []\n",
        "  embedder = FaceNet()\n",
        "  for url in files:\n",
        "    extension = url.split(\".\")[1]\n",
        "    isHappy = extension in happy\n",
        "    isSad = extension in sad\n",
        "    if isHappy or isSad:\n",
        "      image = imread(f\"{directory}/{url}\")\n",
        "      imageColor = cv2.cvtColor(image, cv2.COLOR_GRAY2RGB)\n",
        "      embeddings = embedder.extract(imageColor, threshold=0.95)\n",
        "      inputs.append(embeddings[0][\"embedding\"])\n",
        "      outputs.append(0 if isHappy else 1)\n",
        "  return inputs, outputs"
      ],
      "execution_count": 27,
      "outputs": []
    },
    {
      "cell_type": "markdown",
      "metadata": {
        "id": "g-rXQ5oZWI03"
      },
      "source": [
        "<h1>Evaluating the classifier</h1>"
      ]
    },
    {
      "cell_type": "code",
      "metadata": {
        "id": "Bp0KJ0NfWHSg"
      },
      "source": [
        "def multiClassEvaluation(realLabels: list, computedLabels: list, labelNames: list):\n",
        "    accMean, precisionMean, recallMean, nrLabels = 0, 0, 0, len(labelNames)\n",
        "    for label in labelNames:\n",
        "        TP = sum([1 if real == label and computed == label else 0 for real, computed in zip(realLabels, computedLabels)])\n",
        "        TN = sum([1 if real != label and computed != label else 0 for real, computed in zip(realLabels, computedLabels)])\n",
        "        FP = sum([1 if real != label and computed == label else 0 for real, computed in zip(realLabels, computedLabels)])\n",
        "        FN = sum([1 if real == label and computed != label else 0 for real, computed in zip(realLabels, computedLabels)])\n",
        "        try:\n",
        "            acc = (TP + TN) / (TP + TN + FP + FN)\n",
        "        except ZeroDivisionError:\n",
        "            acc = 0\n",
        "        try:\n",
        "            precision = TP / (TP + FP)\n",
        "        except ZeroDivisionError:\n",
        "            precision = 0\n",
        "        try:\n",
        "            recall = TP / (TP + FN)\n",
        "        except ZeroDivisionError:\n",
        "            recall = 0\n",
        "        accMean += acc\n",
        "        precisionMean += precision\n",
        "        recallMean += recall\n",
        "    return accMean / nrLabels, precisionMean / nrLabels, recallMean / nrLabels"
      ],
      "execution_count": 32,
      "outputs": []
    },
    {
      "cell_type": "markdown",
      "metadata": {
        "id": "cz6IacGXWpuC"
      },
      "source": [
        "<h1>Main</h1>"
      ]
    },
    {
      "cell_type": "code",
      "metadata": {
        "colab": {
          "base_uri": "https://localhost:8080/"
        },
        "id": "D3dJPoQUMKrK",
        "outputId": "9cf690cc-4e98-44a7-a70e-9bbcc6c40845"
      },
      "source": [
        "from sklearn.model_selection import train_test_split\n",
        "from sklearn.linear_model import SGDClassifier\n",
        "\n",
        "\n",
        "happyCategories = [\"happy\", \"wink\", \"normal\"]\n",
        "sadCategories = [\"sad\", \"sleepy\", \"glasses\"]\n",
        "\n",
        "inputData, outputData = loadImages(happyCategories, sadCategories)\n",
        "print(\"Loaded data\")\n",
        "\n",
        "trainInput, validInput, trainOutput, validOutput = train_test_split(inputData, outputData, train_size=8/10)\n",
        "\n",
        "classifier = SGDClassifier(random_state=42, max_iter=2000, tol=1e-3)\n",
        "classifier.fit(inputData, outputData)\n",
        "\n",
        "validComputedOutput = list(classifier.predict(validInput))\n",
        "\n",
        "print(f\"REAL     {validOutput}\")\n",
        "print(f\"COMPUTED {validComputedOutput}\")\n",
        "\n",
        "accuracy, precision, recall = multiClassEvaluation(validOutput, validComputedOutput, [0, 1])\n",
        "print(f\"accuracy {accuracy}\\nprecision {precision}\\nrecall {recall}\")"
      ],
      "execution_count": 35,
      "outputs": [
        {
          "output_type": "stream",
          "text": [
            "Loaded data\n",
            "REAL     [0, 1, 0, 1, 0, 1, 0, 1, 1, 0, 1, 1, 0, 1, 1, 1, 0, 0, 1]\n",
            "COMPUTED [0, 1, 0, 0, 0, 0, 0, 0, 0, 0, 0, 1, 0, 0, 0, 1, 0, 0, 1]\n",
            "accuracy 0.631578947368421\n",
            "precision 0.7666666666666666\n",
            "recall 0.6818181818181819\n"
          ],
          "name": "stdout"
        }
      ]
    }
  ]
}
